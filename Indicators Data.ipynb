{
 "cells": [
  {
   "cell_type": "code",
   "execution_count": 206,
   "id": "fd7a0e29",
   "metadata": {},
   "outputs": [
    {
     "data": {
      "text/html": [
       "<div>\n",
       "<style scoped>\n",
       "    .dataframe tbody tr th:only-of-type {\n",
       "        vertical-align: middle;\n",
       "    }\n",
       "\n",
       "    .dataframe tbody tr th {\n",
       "        vertical-align: top;\n",
       "    }\n",
       "\n",
       "    .dataframe thead th {\n",
       "        text-align: right;\n",
       "    }\n",
       "</style>\n",
       "<table border=\"1\" class=\"dataframe\">\n",
       "  <thead>\n",
       "    <tr style=\"text-align: right;\">\n",
       "      <th></th>\n",
       "      <th>Series Name</th>\n",
       "      <th>Series Code</th>\n",
       "      <th>Country Name</th>\n",
       "      <th>Country Code</th>\n",
       "      <th>2010 [YR2010]</th>\n",
       "    </tr>\n",
       "  </thead>\n",
       "  <tbody>\n",
       "    <tr>\n",
       "      <th>0</th>\n",
       "      <td>Population, total</td>\n",
       "      <td>SP.POP.TOTL</td>\n",
       "      <td>Afghanistan</td>\n",
       "      <td>AFG</td>\n",
       "      <td>29185511</td>\n",
       "    </tr>\n",
       "    <tr>\n",
       "      <th>1</th>\n",
       "      <td>Population, total</td>\n",
       "      <td>SP.POP.TOTL</td>\n",
       "      <td>Africa Eastern and Southern</td>\n",
       "      <td>AFE</td>\n",
       "      <td>518468229</td>\n",
       "    </tr>\n",
       "    <tr>\n",
       "      <th>2</th>\n",
       "      <td>Population, total</td>\n",
       "      <td>SP.POP.TOTL</td>\n",
       "      <td>Africa Western and Central</td>\n",
       "      <td>AFW</td>\n",
       "      <td>350556886</td>\n",
       "    </tr>\n",
       "    <tr>\n",
       "      <th>3</th>\n",
       "      <td>Population, total</td>\n",
       "      <td>SP.POP.TOTL</td>\n",
       "      <td>Albania</td>\n",
       "      <td>ALB</td>\n",
       "      <td>2913021</td>\n",
       "    </tr>\n",
       "    <tr>\n",
       "      <th>4</th>\n",
       "      <td>Population, total</td>\n",
       "      <td>SP.POP.TOTL</td>\n",
       "      <td>Algeria</td>\n",
       "      <td>DZA</td>\n",
       "      <td>35977451</td>\n",
       "    </tr>\n",
       "  </tbody>\n",
       "</table>\n",
       "</div>"
      ],
      "text/plain": [
       "         Series Name  Series Code                 Country Name Country Code  \\\n",
       "0  Population, total  SP.POP.TOTL                  Afghanistan          AFG   \n",
       "1  Population, total  SP.POP.TOTL  Africa Eastern and Southern          AFE   \n",
       "2  Population, total  SP.POP.TOTL   Africa Western and Central          AFW   \n",
       "3  Population, total  SP.POP.TOTL                      Albania          ALB   \n",
       "4  Population, total  SP.POP.TOTL                      Algeria          DZA   \n",
       "\n",
       "  2010 [YR2010]  \n",
       "0      29185511  \n",
       "1     518468229  \n",
       "2     350556886  \n",
       "3       2913021  \n",
       "4      35977451  "
      ]
     },
     "execution_count": 206,
     "metadata": {},
     "output_type": "execute_result"
    }
   ],
   "source": [
    "import pandas as pd \n",
    "    \n",
    "# making dataframe \n",
    "indicators_df = pd.read_csv(\"indicators_data.csv\") \n",
    "   \n",
    "# output the dataframe and take a look at our data\n",
    "indicators_df.head()"
   ]
  },
  {
   "cell_type": "code",
   "execution_count": 207,
   "id": "8a096d1a",
   "metadata": {},
   "outputs": [
    {
     "name": "stdout",
     "output_type": "stream",
     "text": [
      "['Series Name', 'Series Code', 'Country Name', 'Country Code', '2010 [YR2010]']\n"
     ]
    }
   ],
   "source": [
    "column_headers = list(indicators_df.columns.values)\n",
    "print(column_headers)"
   ]
  },
  {
   "cell_type": "code",
   "execution_count": 208,
   "id": "5aba44e3",
   "metadata": {},
   "outputs": [
    {
     "data": {
      "text/html": [
       "<div>\n",
       "<style scoped>\n",
       "    .dataframe tbody tr th:only-of-type {\n",
       "        vertical-align: middle;\n",
       "    }\n",
       "\n",
       "    .dataframe tbody tr th {\n",
       "        vertical-align: top;\n",
       "    }\n",
       "\n",
       "    .dataframe thead th {\n",
       "        text-align: right;\n",
       "    }\n",
       "</style>\n",
       "<table border=\"1\" class=\"dataframe\">\n",
       "  <thead>\n",
       "    <tr style=\"text-align: right;\">\n",
       "      <th></th>\n",
       "      <th>Series Name</th>\n",
       "      <th>Country Name</th>\n",
       "      <th>2010 [YR2010]</th>\n",
       "    </tr>\n",
       "  </thead>\n",
       "  <tbody>\n",
       "    <tr>\n",
       "      <th>0</th>\n",
       "      <td>Population, total</td>\n",
       "      <td>Afghanistan</td>\n",
       "      <td>29185511</td>\n",
       "    </tr>\n",
       "    <tr>\n",
       "      <th>1</th>\n",
       "      <td>Population, total</td>\n",
       "      <td>Africa Eastern and Southern</td>\n",
       "      <td>518468229</td>\n",
       "    </tr>\n",
       "    <tr>\n",
       "      <th>2</th>\n",
       "      <td>Population, total</td>\n",
       "      <td>Africa Western and Central</td>\n",
       "      <td>350556886</td>\n",
       "    </tr>\n",
       "    <tr>\n",
       "      <th>3</th>\n",
       "      <td>Population, total</td>\n",
       "      <td>Albania</td>\n",
       "      <td>2913021</td>\n",
       "    </tr>\n",
       "    <tr>\n",
       "      <th>4</th>\n",
       "      <td>Population, total</td>\n",
       "      <td>Algeria</td>\n",
       "      <td>35977451</td>\n",
       "    </tr>\n",
       "  </tbody>\n",
       "</table>\n",
       "</div>"
      ],
      "text/plain": [
       "         Series Name                 Country Name 2010 [YR2010]\n",
       "0  Population, total                  Afghanistan      29185511\n",
       "1  Population, total  Africa Eastern and Southern     518468229\n",
       "2  Population, total   Africa Western and Central     350556886\n",
       "3  Population, total                      Albania       2913021\n",
       "4  Population, total                      Algeria      35977451"
      ]
     },
     "execution_count": 208,
     "metadata": {},
     "output_type": "execute_result"
    }
   ],
   "source": [
    "del indicators_df['Country Code']\n",
    "del indicators_df['Series Code']\n",
    "indicators_df.head()"
   ]
  },
  {
   "cell_type": "code",
   "execution_count": 195,
   "id": "05806675",
   "metadata": {},
   "outputs": [
    {
     "name": "stdout",
     "output_type": "stream",
     "text": [
      "['Population, total' 'Population growth (annual %)'\n",
      " 'Rural population (% of total population)'\n",
      " 'Urban population (% of total population)'\n",
      " 'School enrollment, secondary (% gross)'\n",
      " 'Public spending on education, total (% of GDP)'\n",
      " 'GNI per capita, Atlas method (current US$)'\n",
      " 'Life expectancy at birth, total (years)'\n",
      " 'Labor force, female (% of total labor force)' nan\n",
      " 'Data from database: Health Nutrition and Population Statistics'\n",
      " 'Last Updated: 09/19/2022']\n"
     ]
    }
   ],
   "source": [
    "print(indicators_df['Series Name'].unique()) #find all the unique indicators"
   ]
  },
  {
   "cell_type": "code",
   "execution_count": 196,
   "id": "50015380",
   "metadata": {},
   "outputs": [],
   "source": [
    "by_series = indicators_df.groupby(\"Series Name\") #group by these indicators"
   ]
  },
  {
   "cell_type": "code",
   "execution_count": 223,
   "id": "fae14272",
   "metadata": {},
   "outputs": [],
   "source": [
    "unique_indicators = indicators_df['Series Name'].unique()\n",
    "countries_list = indicators_df['Country Name'].values.tolist()\n",
    "population_total = by_series.get_group('Population, total')\n",
    "population_growth = by_series.get_group('Population growth (annual %)')\n",
    "rural_population = by_series.get_group('Rural population (% of total population)')\n",
    "urban_population = by_series.get_group('Urban population (% of total population)')\n",
    "school_enrollment = by_series.get_group('School enrollment, secondary (% gross)')\n",
    "education_spending = by_series.get_group('Public spending on education, total (% of GDP)')\n",
    "gni_capita = by_series.get_group('GNI per capita, Atlas method (current US$)')\n",
    "life_expectancy = by_series.get_group('Life expectancy at birth, total (years)')\n",
    "female_labour = by_series.get_group('Labor force, female (% of total labor force)')\n"
   ]
  },
  {
   "cell_type": "code",
   "execution_count": 232,
   "id": "31bcea55",
   "metadata": {},
   "outputs": [],
   "source": [
    "new_population = population_total.values.tolist()\n",
    "new_pop_growth = population_growth.values.tolist()\n",
    "new_rural_pop = rural_population.values.tolist()\n",
    "new_urban_pop = urban_population.values.tolist()\n",
    "new_school = school_enrollment.values.tolist()\n",
    "new_education = education_spending.values.tolist()\n",
    "new_gni = gni_capita.values.tolist()\n",
    "new_life = life_expectancy.values.tolist()\n",
    "new_labour = female_labour.values.tolist()"
   ]
  },
  {
   "cell_type": "code",
   "execution_count": 199,
   "id": "096e8308",
   "metadata": {},
   "outputs": [
    {
     "data": {
      "text/html": [
       "<div>\n",
       "<style scoped>\n",
       "    .dataframe tbody tr th:only-of-type {\n",
       "        vertical-align: middle;\n",
       "    }\n",
       "\n",
       "    .dataframe tbody tr th {\n",
       "        vertical-align: top;\n",
       "    }\n",
       "\n",
       "    .dataframe thead th {\n",
       "        text-align: right;\n",
       "    }\n",
       "</style>\n",
       "<table border=\"1\" class=\"dataframe\">\n",
       "  <thead>\n",
       "    <tr style=\"text-align: right;\">\n",
       "      <th></th>\n",
       "      <th>Series Name</th>\n",
       "      <th>Country Name</th>\n",
       "      <th>2010 [YR2010]</th>\n",
       "    </tr>\n",
       "  </thead>\n",
       "  <tbody>\n",
       "    <tr>\n",
       "      <th>0</th>\n",
       "      <td>Population, total</td>\n",
       "      <td>Afghanistan</td>\n",
       "      <td>29185511</td>\n",
       "    </tr>\n",
       "    <tr>\n",
       "      <th>1</th>\n",
       "      <td>Population, total</td>\n",
       "      <td>Africa Eastern and Southern</td>\n",
       "      <td>518468229</td>\n",
       "    </tr>\n",
       "    <tr>\n",
       "      <th>2</th>\n",
       "      <td>Population, total</td>\n",
       "      <td>Africa Western and Central</td>\n",
       "      <td>350556886</td>\n",
       "    </tr>\n",
       "    <tr>\n",
       "      <th>3</th>\n",
       "      <td>Population, total</td>\n",
       "      <td>Albania</td>\n",
       "      <td>2913021</td>\n",
       "    </tr>\n",
       "    <tr>\n",
       "      <th>4</th>\n",
       "      <td>Population, total</td>\n",
       "      <td>Algeria</td>\n",
       "      <td>35977451</td>\n",
       "    </tr>\n",
       "  </tbody>\n",
       "</table>\n",
       "</div>"
      ],
      "text/plain": [
       "         Series Name                 Country Name 2010 [YR2010]\n",
       "0  Population, total                  Afghanistan      29185511\n",
       "1  Population, total  Africa Eastern and Southern     518468229\n",
       "2  Population, total   Africa Western and Central     350556886\n",
       "3  Population, total                      Albania       2913021\n",
       "4  Population, total                      Algeria      35977451"
      ]
     },
     "execution_count": 199,
     "metadata": {},
     "output_type": "execute_result"
    }
   ],
   "source": [
    "population_total.head()"
   ]
  },
  {
   "cell_type": "code",
   "execution_count": 247,
   "id": "a5346232",
   "metadata": {},
   "outputs": [
    {
     "name": "stdout",
     "output_type": "stream",
     "text": [
      "{'Afghanistan': ['29185511', '2.74661463795293', '76.263', '23.737', '50.5672492980957', '510', '61.028', '15.7850319147431']}\n"
     ]
    }
   ],
   "source": [
    "#final_data = {'Country Name': population_total['Country Name'],\n",
    " #            'Population Total': population_total['2010 [YR2010]'],\n",
    "   #        'Rural Population': rural_population['2010 [YR2010]'],\n",
    "  #         'Urban Population': urban_population['2010 [YR2010]'],\n",
    "    #       'School Enrollment': school_enrollment['2010 [YR2010]'],\n",
    "     #      'Education Spending': education_spending['2010 [YR2010]'],\n",
    "       #    'GNI per Capita': gni_capita['2010 [YR2010]'],\n",
    "      #     'Life Expectancy': life_expectancy['2010 [YR2010]'],\n",
    "        #   'Female Labour Force': female_labour['2010 [YR2010]']}\n",
    "\n",
    "new_population = population_total.values.tolist()\n",
    "new_pop_growth = population_growth.values.tolist()\n",
    "new_rural_pop = rural_population.values.tolist()\n",
    "new_urban_pop = urban_population.values.tolist()\n",
    "new_school = school_enrollment.values.tolist()\n",
    "new_education = education_spending.values.tolist()\n",
    "new_gni = gni_capita.values.tolist()\n",
    "new_life = life_expectancy.values.tolist()\n",
    "new_labour = female_labour.values.tolist()\n",
    "\n",
    "\n",
    "final_final_data = {countries_list[0]:[new_population[0][2], new_pop_growth[0][2], new_rural_pop[0][2], new_urban_pop[0][2], new_school[0][2], new_gni[0][2], new_life[0][2], new_labour[0][2]]}\n",
    "\n",
    "print(final_final_data)"
   ]
  },
  {
   "cell_type": "code",
   "execution_count": 252,
   "id": "7fade37f",
   "metadata": {},
   "outputs": [
    {
     "data": {
      "text/html": [
       "<div>\n",
       "<style scoped>\n",
       "    .dataframe tbody tr th:only-of-type {\n",
       "        vertical-align: middle;\n",
       "    }\n",
       "\n",
       "    .dataframe tbody tr th {\n",
       "        vertical-align: top;\n",
       "    }\n",
       "\n",
       "    .dataframe thead th {\n",
       "        text-align: right;\n",
       "    }\n",
       "</style>\n",
       "<table border=\"1\" class=\"dataframe\">\n",
       "  <thead>\n",
       "    <tr style=\"text-align: right;\">\n",
       "      <th></th>\n",
       "      <th>Afghanistan</th>\n",
       "    </tr>\n",
       "  </thead>\n",
       "  <tbody>\n",
       "    <tr>\n",
       "      <th>0</th>\n",
       "      <td>29185511</td>\n",
       "    </tr>\n",
       "    <tr>\n",
       "      <th>1</th>\n",
       "      <td>2.74661463795293</td>\n",
       "    </tr>\n",
       "    <tr>\n",
       "      <th>2</th>\n",
       "      <td>76.263</td>\n",
       "    </tr>\n",
       "    <tr>\n",
       "      <th>3</th>\n",
       "      <td>23.737</td>\n",
       "    </tr>\n",
       "    <tr>\n",
       "      <th>4</th>\n",
       "      <td>50.5672492980957</td>\n",
       "    </tr>\n",
       "  </tbody>\n",
       "</table>\n",
       "</div>"
      ],
      "text/plain": [
       "        Afghanistan\n",
       "0          29185511\n",
       "1  2.74661463795293\n",
       "2            76.263\n",
       "3            23.737\n",
       "4  50.5672492980957"
      ]
     },
     "execution_count": 252,
     "metadata": {},
     "output_type": "execute_result"
    }
   ],
   "source": [
    "final_final_df = pd.DataFrame(final_final_data)\n",
    "final_final_df.head()\n"
   ]
  },
  {
   "cell_type": "code",
   "execution_count": 144,
   "id": "a6ee61d9",
   "metadata": {},
   "outputs": [],
   "source": [
    "final_df.to_excel('C:/Users/pc/Downloads/LSE/GV100/DS105/dataframe.xlsx')"
   ]
  },
  {
   "cell_type": "code",
   "execution_count": null,
   "id": "c29cf082",
   "metadata": {},
   "outputs": [],
   "source": []
  }
 ],
 "metadata": {
  "kernelspec": {
   "display_name": "Python 3 (ipykernel)",
   "language": "python",
   "name": "python3"
  },
  "language_info": {
   "codemirror_mode": {
    "name": "ipython",
    "version": 3
   },
   "file_extension": ".py",
   "mimetype": "text/x-python",
   "name": "python",
   "nbconvert_exporter": "python",
   "pygments_lexer": "ipython3",
   "version": "3.9.13"
  }
 },
 "nbformat": 4,
 "nbformat_minor": 5
}
